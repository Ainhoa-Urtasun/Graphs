{
 "cells": [
  {
   "cell_type": "markdown",
   "metadata": {},
   "source": [
    "# Overlaps"
   ]
  },
  {
   "cell_type": "code",
   "execution_count": 38,
   "metadata": {},
   "outputs": [],
   "source": [
    "import pandas\n",
    "import statsmodels.formula.api as smf"
   ]
  },
  {
   "cell_type": "markdown",
   "metadata": {},
   "source": [
    "## Keywords"
   ]
  },
  {
   "cell_type": "code",
   "execution_count": 39,
   "metadata": {},
   "outputs": [
    {
     "name": "stdout",
     "output_type": "stream",
     "text": [
      "217 phrases in high level\n",
      "71 phrases in design\n"
     ]
    }
   ],
   "source": [
    "filepath = r'D:/BG/Paper_1/Count/BGT.txt'\n",
    "df1 = pandas.read_csv(filepath, sep='\\t', nrows=17422)\n",
    "filepath = r'D:/BG/Paper_1/Count/DNATBU.txt'\n",
    "df2 = pandas.read_csv(filepath, sep='\\t', nrows=166)\n",
    "adv_m = df1.loc[(df1.SkillCluster=='materials science') & (df1.IsSoftware==0), 'Skill_US'].tolist()\n",
    "adv_p = df1.loc[(df1.SkillCluster=='product development') & (df1.IsSoftware==0), 'Skill_US'].tolist()\n",
    "adv_s = df1.loc[(df1.SkillClusterFamily=='science and research') & (df1.IsSoftware==0), 'Skill_US'].tolist()\n",
    "adv = adv_m + adv_p + adv_s\n",
    "print(len(adv),'phrases in high level')\n",
    "design = df1.loc[(df1.SkillCluster=='analog design') & (df1.IsSoftware==0), 'Skill_US'].tolist() + df1.loc[(df1.SkillCluster=='creative design') & (df1.IsSoftware==0), 'Skill_US'].tolist() + df1.loc[(df1.SkillCluster=='digital design') & (df1.IsSoftware==0), 'Skill_US'].tolist() + df1.loc[(df1.SkillCluster=='drafting and engineering design') & (df1.IsSoftware==0), 'Skill_US'].tolist() + df1.loc[(df1.SkillCluster=='graphic and visual design') & (df1.IsSoftware==0), 'Skill_US'].tolist() + df1.loc[(df1.SkillCluster=='graphic and visual design software') & (df1.IsSoftware==0), 'Skill_US'].tolist() + df1.loc[(df1.SkillCluster=='industrial design') & (df1.IsSoftware==0), 'Skill_US'].tolist() + df1.loc[(df1.SkillCluster=='manufacturing design') & (df1.IsSoftware==0), 'Skill_US'].tolist()\n",
    "print(len(design),'phrases in design')"
   ]
  },
  {
   "cell_type": "code",
   "execution_count": 40,
   "metadata": {},
   "outputs": [
    {
     "name": "stdout",
     "output_type": "stream",
     "text": [
      "['advanced', 'analy', 'change', 'creativ', 'design', 'develop', 'devising', 'evaluate', 'experiment', 'improve', 'initiative', 'interpret', 'learn', 'model', 'multi-tasking', 'plan', 'project', 'research', 'simulat', 'sketch']\n",
      "178 phrases in high level after removing complexity overlap\n",
      "31 phrases in design after removing complexity overlap\n"
     ]
    }
   ],
   "source": [
    "complexity = df2.loc[df2.BU=='complexity', 'KEYWORDS'].tolist()\n",
    "print(complexity)\n",
    "adv = [phrase for phrase in adv if all(stem not in phrase for stem in complexity)]\n",
    "print(len(adv),'phrases in high level after removing complexity overlap')\n",
    "design = [phrase for phrase in design if all(stem not in phrase for stem in complexity)]\n",
    "print(len(design),'phrases in design after removing complexity overlap')"
   ]
  },
  {
   "cell_type": "markdown",
   "metadata": {},
   "source": [
    "## Full sample"
   ]
  },
  {
   "cell_type": "code",
   "execution_count": 41,
   "metadata": {},
   "outputs": [
    {
     "name": "stdout",
     "output_type": "stream",
     "text": [
      "(3091485, 100)\n"
     ]
    }
   ],
   "source": [
    "filepath = r'D:/BG/Data/Processing/4_data.txt'\n",
    "data = pandas.read_csv(filepath, sep='\\t')\n",
    "print(data.shape)"
   ]
  },
  {
   "cell_type": "markdown",
   "metadata": {},
   "source": [
    "## Hybrid sample"
   ]
  },
  {
   "cell_type": "code",
   "execution_count": 42,
   "metadata": {},
   "outputs": [
    {
     "name": "stdout",
     "output_type": "stream",
     "text": [
      "(212822, 100)\n"
     ]
    }
   ],
   "source": [
    "data = data[data.plant_5==0]\n",
    "print(data.shape)"
   ]
  },
  {
   "cell_type": "markdown",
   "metadata": {},
   "source": [
    "## Counting new High level and Design"
   ]
  },
  {
   "cell_type": "code",
   "execution_count": 43,
   "metadata": {},
   "outputs": [
    {
     "name": "stdout",
     "output_type": "stream",
     "text": [
      "212822\n",
      "             adv0\n",
      "BGTJobId         \n",
      "351089402       0\n",
      "351095233       0\n",
      "351100169       0\n",
      "351102479       0\n",
      "351110441       0\n",
      "...           ...\n",
      "38689223701     0\n",
      "38689229220     2\n",
      "38689235695     2\n",
      "38689246738     3\n",
      "38689265196     2\n",
      "\n",
      "[212822 rows x 1 columns]\n",
      "212822\n",
      "             design0\n",
      "BGTJobId            \n",
      "351089402          0\n",
      "351095233          0\n",
      "351100169          1\n",
      "351102479          0\n",
      "351110441          0\n",
      "...              ...\n",
      "38689223701        0\n",
      "38689229220        0\n",
      "38689235695        0\n",
      "38689246738        0\n",
      "38689265196        0\n",
      "\n",
      "[212822 rows x 1 columns]\n"
     ]
    }
   ],
   "source": [
    "data['SK_0'] = data.SK_without.str.split(',')\n",
    "jobslist = data[['BGTJobId','SK_0']].values.tolist() # [[1,['critical thinking','physical abilities']],[2,['market research','analytical skills']]\n",
    "# Important: it works for phrases\n",
    "\n",
    "MATCHES = []\n",
    "for job in jobslist:\n",
    "  j = []\n",
    "  j.append(job[0])\n",
    "  n = 0\n",
    "  for keyword in adv:\n",
    "    n = job[1].count(keyword)+n\n",
    "  j.append(n)\n",
    "  MATCHES.append(j)\n",
    "print(len(MATCHES))\n",
    "df_adv = pandas.DataFrame(MATCHES)\n",
    "df_adv.columns = ['BGTJobId','adv0']\n",
    "df_adv = df_adv.set_index('BGTJobId')\n",
    "print(df_adv)\n",
    "\n",
    "MATCHES = []\n",
    "for job in jobslist:\n",
    "  j = []\n",
    "  j.append(job[0])\n",
    "  n = 0\n",
    "  for keyword in design:\n",
    "    n = job[1].count(keyword)+n\n",
    "  j.append(n)\n",
    "  MATCHES.append(j)\n",
    "print(len(MATCHES))\n",
    "df_design = pandas.DataFrame(MATCHES)\n",
    "df_design.columns = ['BGTJobId','design0']\n",
    "df_design = df_design.set_index('BGTJobId')\n",
    "print(df_design)\n",
    "\n",
    "data = pandas.merge(left=data,right=df_adv,how='inner',on='BGTJobId')\n",
    "data = pandas.merge(left=data,right=df_design,how='inner',on='BGTJobId')"
   ]
  },
  {
   "cell_type": "markdown",
   "metadata": {},
   "source": [
    "## Complexity as a function of activities (hybrid OLS)"
   ]
  },
  {
   "cell_type": "code",
   "execution_count": 44,
   "metadata": {},
   "outputs": [
    {
     "name": "stdout",
     "output_type": "stream",
     "text": [
      "                            OLS Regression Results                            \n",
      "==============================================================================\n",
      "Dep. Variable:             complexity   R-squared:                       0.211\n",
      "Model:                            OLS   Adj. R-squared:                  0.211\n",
      "Method:                 Least Squares   F-statistic:                     117.4\n",
      "Date:                Wed, 21 Oct 2020   Prob (F-statistic):          1.95e-116\n",
      "Time:                        13:14:27   Log-Likelihood:            -4.7907e+05\n",
      "No. Observations:              212822   AIC:                         9.582e+05\n",
      "Df Residuals:                  212807   BIC:                         9.583e+05\n",
      "Df Model:                          14                                         \n",
      "Covariance Type:              cluster                                         \n",
      "==============================================================================\n",
      "                 coef    std err          z      P>|z|      [0.025      0.975]\n",
      "------------------------------------------------------------------------------\n",
      "Intercept      1.8452      0.066     27.847      0.000       1.715       1.975\n",
      "basic         -0.1998      0.024     -8.484      0.000      -0.246      -0.154\n",
      "tech_1        -0.2139      0.112     -1.907      0.057      -0.434       0.006\n",
      "tech_2        -0.2097      0.041     -5.081      0.000      -0.291      -0.129\n",
      "adv0           0.3425      0.026     13.008      0.000       0.291       0.394\n",
      "design0        0.3612      0.089      4.069      0.000       0.187       0.535\n",
      "software       0.3038      0.031      9.835      0.000       0.243       0.364\n",
      "busfin         0.5058      0.024     21.266      0.000       0.459       0.552\n",
      "cust_1         0.1215      0.022      5.533      0.000       0.078       0.165\n",
      "cust_2         0.9861      0.114      8.631      0.000       0.762       1.210\n",
      "data_1         0.3604      0.101      3.583      0.000       0.163       0.558\n",
      "data_2         0.7894      0.074     10.701      0.000       0.645       0.934\n",
      "management     0.4284      0.032     13.474      0.000       0.366       0.491\n",
      "ml            -0.7847      0.098     -8.022      0.000      -0.976      -0.593\n",
      "office         0.0319      0.023      1.363      0.173      -0.014       0.078\n",
      "==============================================================================\n",
      "Omnibus:                    35914.887   Durbin-Watson:                   1.897\n",
      "Prob(Omnibus):                  0.000   Jarque-Bera (JB):            77310.656\n",
      "Skew:                           0.999   Prob(JB):                         0.00\n",
      "Kurtosis:                       5.174   Cond. No.                         19.0\n",
      "==============================================================================\n",
      "\n",
      "Notes:\n",
      "[1] Standard Errors are robust to cluster correlation (cluster)\n"
     ]
    }
   ],
   "source": [
    "r = smf.ols(\"complexity ~ basic+tech_1+tech_2+adv0+design0+software+busfin+cust_1+cust_2+data_1+data_2+management+ml+office\", data=data).fit(cov_type='cluster',cov_kwds={'groups':data['plant']})\n",
    "print(r.summary())"
   ]
  },
  {
   "cell_type": "markdown",
   "metadata": {},
   "source": [
    "## Complexity as a function of occupations"
   ]
  },
  {
   "cell_type": "code",
   "execution_count": 45,
   "metadata": {},
   "outputs": [
    {
     "name": "stdout",
     "output_type": "stream",
     "text": [
      "                            OLS Regression Results                            \n",
      "==============================================================================\n",
      "Dep. Variable:             complexity   R-squared:                       0.114\n",
      "Model:                            OLS   Adj. R-squared:                  0.114\n",
      "Method:                 Least Squares   F-statistic:                     201.9\n",
      "Date:                Wed, 21 Oct 2020   Prob (F-statistic):           2.65e-73\n",
      "Time:                        13:14:28   Log-Likelihood:            -4.9138e+05\n",
      "No. Observations:              212822   AIC:                         9.828e+05\n",
      "Df Residuals:                  212818   BIC:                         9.828e+05\n",
      "Df Model:                           3                                         \n",
      "Covariance Type:              cluster                                         \n",
      "==========================================================================================\n",
      "                             coef    std err          z      P>|z|      [0.025      0.975]\n",
      "------------------------------------------------------------------------------------------\n",
      "Intercept                  0.9942      0.050     19.730      0.000       0.895       1.093\n",
      "occupation_Managers        2.2882      0.097     23.673      0.000       2.099       2.478\n",
      "occupation_Engineers       2.3562      0.114     20.673      0.000       2.133       2.580\n",
      "occupation_Technicians     0.5621      0.072      7.792      0.000       0.421       0.703\n",
      "==============================================================================\n",
      "Omnibus:                    43408.467   Durbin-Watson:                   1.870\n",
      "Prob(Omnibus):                  0.000   Jarque-Bera (JB):            95875.220\n",
      "Skew:                           1.179   Prob(JB):                         0.00\n",
      "Kurtosis:                       5.292   Cond. No.                         6.95\n",
      "==============================================================================\n",
      "\n",
      "Notes:\n",
      "[1] Standard Errors are robust to cluster correlation (cluster)\n"
     ]
    }
   ],
   "source": [
    "data = pandas.get_dummies(data, columns=['occupation'])\n",
    "r = smf.ols(\"complexity ~ occupation_Managers+occupation_Engineers+occupation_Technicians\", data=data).fit(cov_type='cluster',cov_kwds={'groups':data['plant']})\n",
    "print(r.summary())"
   ]
  },
  {
   "cell_type": "markdown",
   "metadata": {},
   "source": [
    "## Complexity as a function of technology"
   ]
  },
  {
   "cell_type": "code",
   "execution_count": 46,
   "metadata": {},
   "outputs": [
    {
     "name": "stdout",
     "output_type": "stream",
     "text": [
      "                            OLS Regression Results                            \n",
      "==============================================================================\n",
      "Dep. Variable:             complexity   R-squared:                       0.422\n",
      "Model:                            OLS   Adj. R-squared:                  0.422\n",
      "Method:                 Least Squares   F-statistic:                     445.9\n",
      "Date:                Wed, 21 Oct 2020   Prob (F-statistic):          2.97e-160\n",
      "Time:                        13:14:30   Log-Likelihood:            -4.4599e+05\n",
      "No. Observations:              212822   AIC:                         8.920e+05\n",
      "Df Residuals:                  212814   BIC:                         8.921e+05\n",
      "Df Model:                           7                                         \n",
      "Covariance Type:              cluster                                         \n",
      "==========================================================================================\n",
      "                             coef    std err          z      P>|z|      [0.025      0.975]\n",
      "------------------------------------------------------------------------------------------\n",
      "Intercept                 -1.3363      0.075    -17.825      0.000      -1.483      -1.189\n",
      "total_terms1               2.0938      0.047     44.163      0.000       2.001       2.187\n",
      "occupation_Managers        1.5317      0.075     20.348      0.000       1.384       1.679\n",
      "occupation_Engineers       1.7776      0.084     21.055      0.000       1.612       1.943\n",
      "occupation_Technicians     0.3236      0.076      4.256      0.000       0.175       0.473\n",
      "TECH_AM                    0.5585      0.242      2.303      0.021       0.083       1.034\n",
      "Qtr                       -0.0051      0.020     -0.252      0.801      -0.045       0.035\n",
      "TECH_AMQtr                -0.0913      0.123     -0.744      0.457      -0.332       0.149\n",
      "==============================================================================\n",
      "Omnibus:                    21431.913   Durbin-Watson:                   1.932\n",
      "Prob(Omnibus):                  0.000   Jarque-Bera (JB):            69219.352\n",
      "Skew:                           0.518   Prob(JB):                         0.00\n",
      "Kurtosis:                       5.595   Cond. No.                         53.4\n",
      "==============================================================================\n",
      "\n",
      "Notes:\n",
      "[1] Standard Errors are robust to cluster correlation (cluster)\n"
     ]
    }
   ],
   "source": [
    "data['Qtr'] = (1/10)*(pandas.to_datetime(data.JobDate).dt.quarter+4*(pandas.to_datetime(data.JobDate).dt.year-2014))\n",
    "data = pandas.get_dummies(data, columns=['TECH'])\n",
    "data['TECH_AMQtr'] = data.TECH_AM * data.Qtr\n",
    "data['total_terms1'] = 0.1*data['total_terms']\n",
    "r = smf.ols(\"complexity ~ total_terms1+occupation_Managers+occupation_Engineers+occupation_Technicians+TECH_AM+Qtr+TECH_AMQtr\", data=data).fit(cov_type='cluster',cov_kwds={'groups':data['plant']})\n",
    "print(r.summary())"
   ]
  },
  {
   "cell_type": "code",
   "execution_count": null,
   "metadata": {},
   "outputs": [],
   "source": []
  }
 ],
 "metadata": {
  "kernelspec": {
   "display_name": "Python 3",
   "language": "python",
   "name": "python3"
  },
  "language_info": {
   "codemirror_mode": {
    "name": "ipython",
    "version": 3
   },
   "file_extension": ".py",
   "mimetype": "text/x-python",
   "name": "python",
   "nbconvert_exporter": "python",
   "pygments_lexer": "ipython3",
   "version": "3.8.5"
  }
 },
 "nbformat": 4,
 "nbformat_minor": 4
}
